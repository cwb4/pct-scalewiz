{
 "cells": [
  {
   "cell_type": "code",
   "execution_count": 32,
   "metadata": {},
   "outputs": [
    {
     "ename": "AttributeError",
     "evalue": "module 'tkinter' has no attribute 'ScrolledText'",
     "output_type": "error",
     "traceback": [
      "\u001b[1;31m---------------------------------------------------------------------------\u001b[0m",
      "\u001b[1;31mAttributeError\u001b[0m                            Traceback (most recent call last)",
      "\u001b[1;32m<ipython-input-32-c5bd458a5508>\u001b[0m in \u001b[0;36m<module>\u001b[1;34m\u001b[0m\n\u001b[0;32m     53\u001b[0m \u001b[1;32mif\u001b[0m \u001b[0m__name__\u001b[0m \u001b[1;33m==\u001b[0m \u001b[1;34m'__main__'\u001b[0m\u001b[1;33m:\u001b[0m\u001b[1;33m\u001b[0m\u001b[1;33m\u001b[0m\u001b[0m\n\u001b[0;32m     54\u001b[0m     \u001b[0mwindow\u001b[0m \u001b[1;33m=\u001b[0m \u001b[0mtk\u001b[0m\u001b[1;33m.\u001b[0m\u001b[0mTk\u001b[0m\u001b[1;33m(\u001b[0m\u001b[1;33m)\u001b[0m\u001b[1;33m\u001b[0m\u001b[1;33m\u001b[0m\u001b[0m\n\u001b[1;32m---> 55\u001b[1;33m     \u001b[0mConfigManager\u001b[0m\u001b[1;33m(\u001b[0m\u001b[0mwindow\u001b[0m\u001b[1;33m)\u001b[0m\u001b[1;33m\u001b[0m\u001b[1;33m\u001b[0m\u001b[0m\n\u001b[0m\u001b[0;32m     56\u001b[0m     \u001b[0mwindow\u001b[0m\u001b[1;33m.\u001b[0m\u001b[0mmainloop\u001b[0m\u001b[1;33m(\u001b[0m\u001b[1;33m)\u001b[0m\u001b[1;33m\u001b[0m\u001b[1;33m\u001b[0m\u001b[0m\n",
      "\u001b[1;32m<ipython-input-32-c5bd458a5508>\u001b[0m in \u001b[0;36m__init__\u001b[1;34m(self, parent, *args, **kwargs)\u001b[0m\n\u001b[0;32m     25\u001b[0m                 \u001b[0mlabel\u001b[0m\u001b[1;33m.\u001b[0m\u001b[0mgrid\u001b[0m\u001b[1;33m(\u001b[0m\u001b[0mrow\u001b[0m\u001b[1;33m=\u001b[0m\u001b[0midx\u001b[0m\u001b[1;33m,\u001b[0m \u001b[0mcolumn\u001b[0m\u001b[1;33m=\u001b[0m\u001b[1;36m0\u001b[0m\u001b[1;33m,\u001b[0m \u001b[0mpadx\u001b[0m\u001b[1;33m=\u001b[0m\u001b[1;36m2\u001b[0m\u001b[1;33m,\u001b[0m \u001b[0mpady\u001b[0m\u001b[1;33m=\u001b[0m\u001b[1;36m2\u001b[0m\u001b[1;33m,\u001b[0m \u001b[0msticky\u001b[0m\u001b[1;33m=\u001b[0m\u001b[1;34m'ne'\u001b[0m\u001b[1;33m)\u001b[0m\u001b[1;33m\u001b[0m\u001b[1;33m\u001b[0m\u001b[0m\n\u001b[0;32m     26\u001b[0m                 \u001b[1;32mif\u001b[0m \u001b[0mlen\u001b[0m\u001b[1;33m(\u001b[0m\u001b[0mconfig\u001b[0m\u001b[1;33m[\u001b[0m\u001b[0msection\u001b[0m\u001b[1;33m]\u001b[0m\u001b[1;33m[\u001b[0m\u001b[0mkey\u001b[0m\u001b[1;33m]\u001b[0m\u001b[1;33m)\u001b[0m \u001b[1;33m>\u001b[0m \u001b[1;36m65\u001b[0m\u001b[1;33m:\u001b[0m\u001b[1;33m\u001b[0m\u001b[1;33m\u001b[0m\u001b[0m\n\u001b[1;32m---> 27\u001b[1;33m                     \u001b[0ment\u001b[0m \u001b[1;33m=\u001b[0m \u001b[0mtk\u001b[0m\u001b[1;33m.\u001b[0m\u001b[0mScrolledText\u001b[0m\u001b[1;33m(\u001b[0m\u001b[0mfrm\u001b[0m\u001b[1;33m)\u001b[0m\u001b[1;33m\u001b[0m\u001b[1;33m\u001b[0m\u001b[0m\n\u001b[0m\u001b[0;32m     28\u001b[0m                     \u001b[0ment\u001b[0m\u001b[1;33m.\u001b[0m\u001b[0mgrid\u001b[0m\u001b[1;33m(\u001b[0m\u001b[0mrow\u001b[0m\u001b[1;33m=\u001b[0m\u001b[0midx\u001b[0m\u001b[1;33m,\u001b[0m \u001b[0mcolumn\u001b[0m\u001b[1;33m=\u001b[0m\u001b[1;36m1\u001b[0m\u001b[1;33m,\u001b[0m \u001b[0mpadx\u001b[0m\u001b[1;33m=\u001b[0m\u001b[1;36m2\u001b[0m\u001b[1;33m,\u001b[0m \u001b[0mpady\u001b[0m\u001b[1;33m=\u001b[0m\u001b[1;36m2\u001b[0m\u001b[1;33m,\u001b[0m \u001b[0msticky\u001b[0m\u001b[1;33m=\u001b[0m\u001b[1;34m'ne'\u001b[0m\u001b[1;33m)\u001b[0m\u001b[1;33m\u001b[0m\u001b[1;33m\u001b[0m\u001b[0m\n\u001b[0;32m     29\u001b[0m                     \u001b[0ment\u001b[0m\u001b[1;33m.\u001b[0m\u001b[0minsert\u001b[0m\u001b[1;33m(\u001b[0m\u001b[1;36m1.0\u001b[0m\u001b[1;33m,\u001b[0m \u001b[0mconfig\u001b[0m\u001b[1;33m[\u001b[0m\u001b[0msection\u001b[0m\u001b[1;33m]\u001b[0m\u001b[1;33m[\u001b[0m\u001b[0mkey\u001b[0m\u001b[1;33m]\u001b[0m\u001b[1;33m)\u001b[0m\u001b[1;33m\u001b[0m\u001b[1;33m\u001b[0m\u001b[0m\n",
      "\u001b[1;31mAttributeError\u001b[0m: module 'tkinter' has no attribute 'ScrolledText'"
     ]
    }
   ],
   "source": [
    "import configparser\n",
    "import tkinter as tk\n",
    "from tkinter import ttk, filedialog, scrolledtext\n",
    "       \n",
    "\n",
    "\n",
    "class ConfigManager(tk.Toplevel):\n",
    "    def __init__(self, parent, *args, **kwargs):\n",
    "        tk.Toplevel.__init__(self, parent, *args, **kwargs)\n",
    "        self.winfo_toplevel().title('Settings')\n",
    "        \n",
    "        self.manager = configparser.ConfigParser()\n",
    "        self.manager.read('config.ini')\n",
    "        config = as_dict(self.manager)\n",
    "        \n",
    "        for section in config.keys():\n",
    "            frm = tk.LabelFrame(self, text=section)\n",
    "            lengths = [len(config[section][key]) for key in config[section].keys()]\n",
    "            max_len = max(lengths)\n",
    "            \n",
    "            for idx, key in enumerate(config[section].keys()):\n",
    "                frm.grid_rowconfigure(idx, weight=1)\n",
    "                frm.grid_columnconfigure(1, weight=1)\n",
    "                label = tk.Label(frm, text=key)\n",
    "                label.grid(row=idx, column=0, padx=2, pady=2, sticky='ne')\n",
    "                if len(config[section][key]) > 65:\n",
    "                    ent = tk.ScrolledText(frm)\n",
    "                    ent.grid(row=idx, column=1, padx=2, pady=2, sticky='ne')\n",
    "                    ent.insert(1.0, config[section][key])\n",
    "                else:\n",
    "                    ent =  ttk.Entry(frm, width=max_len)\n",
    "                    ent.grid(row=idx, column=1, padx=2, pady=2, sticky='ne')\n",
    "                    ent.insert(0, config[section][key])\n",
    "                    frm.pack(pady=5, padx=5, anchor='sw')\n",
    "        \n",
    "\n",
    "    def askfil(self, event) -> None:\n",
    "        \"\"\"Create a prompt asking the user for a file. If the path isn't\n",
    "        blank, put it in the clicked Entry widget.\n",
    "        \"\"\"\n",
    "        fil = filedialog.askopenfilename(\n",
    "            initialdir=\"C:\\\"\",\n",
    "            title=\"Select config file:\",\n",
    "            filetypes=[(\"Configuration files\", \"*.ini\")]\n",
    "            )\n",
    "\n",
    "        if not fil == \"\":\n",
    "            event.widget.delete(0, 'end')\n",
    "            event.widget.insert(0, fil)\n",
    "            event.widget.after(75, event.widget.xview_moveto, 1)\n",
    "            # https://stackoverflow.com/questions/29334544/\n",
    "\n",
    "if __name__ == '__main__':\n",
    "    window = tk.Tk()\n",
    "    ConfigManager(window)\n",
    "    window.mainloop()"
   ]
  },
  {
   "cell_type": "code",
   "execution_count": 2,
   "metadata": {},
   "outputs": [
    {
     "name": "stdout",
     "output_type": "stream",
     "text": [
      "plot settings\n",
      "report settings\n",
      "test settings\n",
      "{'plot settings': {'default style': 'bmh', 'show style options': 'True', 'plot styles': 'bmh,\\nfivethirtyeight,\\nseaborn,\\nseaborn-colorblind,\\nseaborn-dark-palette,\\nseaborn-muted,\\nseaborn-notebook,\\nseaborn-paper,\\nseaborn-pastel,\\ntableau-colorblind10', 'color cycle': 'orange,\\nblue,\\nred,\\nmediumseagreen,\\ndarkgoldenrod,\\nindigo,\\nmediumvioletred,\\ndarkcyan,\\nmaroon,\\ndarkslategrey'}, 'report settings': {'date format': '', 'template path': '', 'series per project': '10'}, 'test settings': {'fail psi': '1500', 'time limit minutes': '90', 'default pump': 'PSI 2', 'project folder': ''}}\n"
     ]
    }
   ],
   "source": [
    "import configparser\n",
    "this = configparser.ConfigParser()\n",
    "this.read('config.ini')\n",
    "\n",
    "def as_dict(config):\n",
    "    \"\"\"\n",
    "    Converts a ConfigParser object into a dictionary.\n",
    "\n",
    "    The resulting dictionary has sections as keys which point to a dict of the\n",
    "    sections options as key => value pairs.\n",
    "    \n",
    "    https://stackoverflow.com/a/23944270\n",
    "    \"\"\"\n",
    "    the_dict = {}\n",
    "    for section in config.sections():\n",
    "        the_dict[section] = {}\n",
    "        for key, val in config.items(section):\n",
    "            the_dict[section][key] = val\n",
    "    return the_dict\n",
    "\n",
    "new = as_dict(this)\n",
    "new\n",
    "[print(i) for i in new]\n",
    "print(new)"
   ]
  },
  {
   "cell_type": "code",
   "execution_count": 22,
   "metadata": {},
   "outputs": [
    {
     "data": {
      "text/plain": [
       "'test settings'"
      ]
     },
     "execution_count": 22,
     "metadata": {},
     "output_type": "execute_result"
    }
   ],
   "source": [
    "# s = list(this.sections())\n",
    "sections = this.sections()\n",
    "max(sections)"
   ]
  },
  {
   "cell_type": "code",
   "execution_count": 21,
   "metadata": {},
   "outputs": [
    {
     "data": {
      "text/plain": [
       "<Section: plot settings>"
      ]
     },
     "execution_count": 21,
     "metadata": {},
     "output_type": "execute_result"
    }
   ],
   "source": [
    "this[sections[0]]"
   ]
  },
  {
   "cell_type": "code",
   "execution_count": 23,
   "metadata": {},
   "outputs": [
    {
     "name": "stdout",
     "output_type": "stream",
     "text": [
      "0 plot settings\n",
      "1 report settings\n",
      "2 test settings\n"
     ]
    }
   ],
   "source": [
    "for i, section in zip(range(len(sections)), sections):\n",
    "    print(i, section)"
   ]
  },
  {
   "cell_type": "code",
   "execution_count": 3,
   "metadata": {},
   "outputs": [],
   "source": [
    "x= str({'plot settings': {'default style': 'bmh', 'show style options': 'True', 'plot styles': 'bmh,\\nfivethirtyeight,\\nseaborn,\\nseaborn-colorblind,\\nseaborn-dark-palette,\\nseaborn-muted,\\nseaborn-notebook,\\nseaborn-paper,\\nseaborn-pastel,\\ntableau-colorblind10', 'color cycle': 'orange,\\nblue,\\nred,\\nmediumseagreen,\\ndarkgoldenrod,\\nindigo,\\nmediumvioletred,\\ndarkcyan,\\nmaroon,\\ndarkslategrey'}, 'report settings': {'date format': '', 'template path': '', 'series per project': '10'}, 'test settings': {'fail psi': '1500', 'time limit minutes': '90', 'default pump': 'PSI 2', 'project folder': ''}})"
   ]
  },
  {
   "cell_type": "code",
   "execution_count": 4,
   "metadata": {},
   "outputs": [
    {
     "data": {
      "text/plain": [
       "\"{'plot settings': {'default style': 'bmh', 'show style options': 'True', 'plot styles': 'bmh,\\\\nfivethirtyeight,\\\\nseaborn,\\\\nseaborn-colorblind,\\\\nseaborn-dark-palette,\\\\nseaborn-muted,\\\\nseaborn-notebook,\\\\nseaborn-paper,\\\\nseaborn-pastel,\\\\ntableau-colorblind10', 'color cycle': 'orange,\\\\nblue,\\\\nred,\\\\nmediumseagreen,\\\\ndarkgoldenrod,\\\\nindigo,\\\\nmediumvioletred,\\\\ndarkcyan,\\\\nmaroon,\\\\ndarkslategrey'}, 'report settings': {'date format': '', 'template path': '', 'series per project': '10'}, 'test settings': {'fail psi': '1500', 'time limit minutes': '90', 'default pump': 'PSI 2', 'project folder': ''}}\""
      ]
     },
     "execution_count": 4,
     "metadata": {},
     "output_type": "execute_result"
    }
   ],
   "source": [
    "x"
   ]
  },
  {
   "cell_type": "code",
   "execution_count": 12,
   "metadata": {},
   "outputs": [
    {
     "data": {
      "text/plain": [
       "\"{'plot settings': {'default style': 'bmh', 'show style options': 'True', 'plot styles': 'bmh, fivethirtyeight, seaborn, seaborn-colorblind, seaborn-dark-palette, seaborn-muted, seaborn-notebook, seaborn-paper, seaborn-pastel, tableau-colorblind10', 'color cycle': 'orange, blue, red, mediumseagreen, darkgoldenrod, indigo, mediumvioletred, darkcyan, maroon, darkslategrey'}, 'report settings': {'date format': '', 'template path': '', 'series per project': '10'}, 'test settings': {'fail psi': '1500', 'time limit minutes': '90', 'default pump': 'PSI 2', 'project folder': ''}}\""
      ]
     },
     "execution_count": 12,
     "metadata": {},
     "output_type": "execute_result"
    }
   ],
   "source": [
    "y = x.replace('\\\\n', ' ')\n",
    "y"
   ]
  },
  {
   "cell_type": "code",
   "execution_count": null,
   "metadata": {},
   "outputs": [],
   "source": []
  }
 ],
 "metadata": {
  "kernelspec": {
   "display_name": "Python 3",
   "language": "python",
   "name": "python3"
  },
  "language_info": {
   "codemirror_mode": {
    "name": "ipython",
    "version": 3
   },
   "file_extension": ".py",
   "mimetype": "text/x-python",
   "name": "python",
   "nbconvert_exporter": "python",
   "pygments_lexer": "ipython3",
   "version": "3.7.4"
  }
 },
 "nbformat": 4,
 "nbformat_minor": 2
}
